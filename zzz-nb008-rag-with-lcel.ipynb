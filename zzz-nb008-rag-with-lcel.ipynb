{
 "cells": [
  {
   "cell_type": "markdown",
   "id": "465c003a-29cf-4cfe-a0c6-d36c04ae2b37",
   "metadata": {},
   "source": [
    "# RAG与LCEL\n",
    "* 如何以非常快速和简洁的方式进行RAG。"
   ]
  },
  {
   "cell_type": "markdown",
   "id": "be46161e-45e9-46d7-8214-bcbea10aff2e",
   "metadata": {},
   "source": [
    "## Setup"
   ]
  },
  {
   "cell_type": "markdown",
   "id": "af743328-1bc8-4b01-85fb-fcb21c6499c2",
   "metadata": {},
   "source": [
    "## 创建您的 .env 文件\n",
    "* 在 GitHub 仓库中，我们包含了一个名为 .env.example 的文件\n",
    "* 将该文件重命名为 .env 文件，在这里您将添加您的机密 API 密钥。记得包括：\n",
    "* OPENAI_API_KEY=your_openai_api_key\n",
    "* LANGCHAIN_TRACING_V2=true\n",
    "* LANGCHAIN_ENDPOINT=https://api.smith.langchain.com\n",
    "* LANGCHAIN_API_KEY=your_langchain_api_key\n",
    "* LANGCHAIN_PROJECT=your_project_name"
   ]
  },
  {
   "cell_type": "markdown",
   "id": "863dd299-0780-49ad-a1b7-b76e249350da",
   "metadata": {},
   "source": [
    "我们将把我们的LangSmith项目称为**007-rag-with-lcel**。"
   ]
  },
  {
   "cell_type": "markdown",
   "id": "4f99504a-1b8f-4360-b342-0b81ffa06aff",
   "metadata": {},
   "source": [
    "## 连接到位于此笔记本同一目录中的 .env 文件"
   ]
  },
  {
   "cell_type": "code",
   "execution_count": 1,
   "id": "fecd39d0-e72e-4bc2-8a68-2fa4008ea365",
   "metadata": {},
   "outputs": [],
   "source": [
    "import os\n",
    "from dotenv import load_dotenv, find_dotenv\n",
    "_ = load_dotenv(find_dotenv())\n",
    "openai_api_key = os.environ[\"OPENAI_API_KEY\"]"
   ]
  },
  {
   "cell_type": "markdown",
   "id": "c573cdd8-3aff-488b-8649-4050a42e26c4",
   "metadata": {},
   "source": [
    "## 向量数据库（即向量存储）：存储和搜索嵌入\n",
    "* 请参阅[此处](https://python.langchain.com/v0.1/docs/modules/data_connection/vectorstores/)的文档页面。\n",
    "* 请参阅[此处](https://python.langchain.com/v0.1/docs/integrations/vectorstores/)的向量存储列表。"
   ]
  },
  {
   "cell_type": "code",
   "execution_count": 77,
   "id": "8e0c5a1d-10d3-4813-a5e3-765c2127e174",
   "metadata": {},
   "outputs": [],
   "source": [
    "from langchain_community.document_loaders import TextLoader\n",
    "from langchain_openai import OpenAIEmbeddings\n",
    "from langchain_text_splitters import CharacterTextSplitter\n",
    "from langchain_chroma import Chroma\n",
    "\n",
    "# Load the document, split it into chunks, embed each chunk and load it into the vector store.\n",
    "loaded_document = TextLoader('./data/state_of_the_union.txt').load()\n",
    "\n",
    "text_splitter = CharacterTextSplitter(chunk_size=1000, chunk_overlap=0)\n",
    "\n",
    "chunks_of_text = text_splitter.split_documents(loaded_document)\n",
    "\n",
    "vector_db = Chroma.from_documents(chunks_of_text, OpenAIEmbeddings())"
   ]
  },
  {
   "cell_type": "code",
   "execution_count": 79,
   "id": "bdbd14f2-a3ca-40db-887b-b86d65d0b22e",
   "metadata": {},
   "outputs": [
    {
     "name": "stdout",
     "output_type": "stream",
     "text": [
      "Tonight. I call on the Senate to: Pass the Freedom to Vote Act. Pass the John Lewis Voting Rights Act. And while you’re at it, pass the Disclose Act so Americans can know who is funding our elections. \n",
      "\n",
      "Tonight, I’d like to honor someone who has dedicated his life to serve this country: Justice Stephen Breyer—an Army veteran, Constitutional scholar, and retiring Justice of the United States Supreme Court. Justice Breyer, thank you for your service. \n",
      "\n",
      "One of the most serious constitutional responsibilities a President has is nominating someone to serve on the United States Supreme Court. \n",
      "\n",
      "And I did that 4 days ago, when I nominated Circuit Court of Appeals Judge Ketanji Brown Jackson. One of our nation’s top legal minds, who will continue Justice Breyer’s legacy of excellence.\n"
     ]
    }
   ],
   "source": [
    "question = \"What did the president say about the John Lewis Voting Rights Act?\"\n",
    "\n",
    "response = vector_db.similarity_search(question)\n",
    "\n",
    "print(response[0].page_content)"
   ]
  },
  {
   "cell_type": "markdown",
   "id": "9ef75d01-9170-4c07-9a3d-7f936067e85c",
   "metadata": {},
   "source": [
    "## 检索器：根据问题返回响应\n",
    "* 检索器是一个接口，可以根据非结构化查询返回文档。它比向量存储更为通用。\n",
    "* 检索器不需要能够存储文档，只需返回（或检索）它们。\n",
    "* 向量存储可以用作检索器的基础，但也有其他类型的检索器。\n",
    "* 请查看文档页面 [这里](https://python.langchain.com/v0.1/docs/modules/data_connection/retrievers/)。\n",
    "* 请查看第三方检索器的列表 [这里](https://python.langchain.com/v0.1/docs/integrations/retrievers/)。"
   ]
  },
  {
   "cell_type": "markdown",
   "id": "28fc3da7-111f-428c-b897-7d4737ad4d19",
   "metadata": {},
   "source": [
    "#### 向量存储作为检索器"
   ]
  },
  {
   "cell_type": "code",
   "execution_count": 81,
   "id": "47b42931-75c5-465d-a615-7e57531a18de",
   "metadata": {},
   "outputs": [],
   "source": [
    "from langchain_community.document_loaders import TextLoader\n",
    "\n",
    "loader = TextLoader(\"./data/state_of_the_union.txt\")"
   ]
  },
  {
   "cell_type": "code",
   "execution_count": 83,
   "id": "f5dfeb82-ac3c-4d75-895f-c4e099feedcd",
   "metadata": {},
   "outputs": [],
   "source": [
    "from langchain_community.vectorstores import FAISS\n",
    "from langchain_openai import OpenAIEmbeddings\n",
    "from langchain_text_splitters import CharacterTextSplitter\n",
    "\n",
    "loaded_document = loader.load()\n",
    "\n",
    "text_splitter = CharacterTextSplitter(chunk_size=1000, chunk_overlap=0)\n",
    "\n",
    "chunks_of_text = text_splitter.split_documents(loaded_document)\n",
    "\n",
    "embeddings = OpenAIEmbeddings()\n",
    "\n",
    "vector_db = FAISS.from_documents(chunks_of_text, embeddings)"
   ]
  },
  {
   "cell_type": "code",
   "execution_count": 84,
   "id": "b5915c97-525d-4091-a6e7-e12ed91e7d70",
   "metadata": {},
   "outputs": [],
   "source": [
    "retriever = vector_db.as_retriever()"
   ]
  },
  {
   "cell_type": "markdown",
   "id": "f999f074-13c2-4fb5-b04f-9d0c7eb93cc4",
   "metadata": {},
   "source": [
    "#### 简单使用，无需LCEL"
   ]
  },
  {
   "cell_type": "code",
   "execution_count": 93,
   "id": "bfbe3f81-a42e-4638-862a-1875bca182d9",
   "metadata": {},
   "outputs": [],
   "source": [
    "response = retriever.invoke(\"what did he say about ketanji brown jackson?\")"
   ]
  },
  {
   "cell_type": "code",
   "execution_count": 94,
   "id": "aea950f3-26eb-496b-8561-303c78c53604",
   "metadata": {},
   "outputs": [
    {
     "data": {
      "text/plain": [
       "4"
      ]
     },
     "execution_count": 94,
     "metadata": {},
     "output_type": "execute_result"
    }
   ],
   "source": [
    "len(response)"
   ]
  },
  {
   "cell_type": "code",
   "execution_count": 95,
   "id": "22e24601-0892-4e50-b616-e9ed23b927c6",
   "metadata": {},
   "outputs": [
    {
     "data": {
      "text/plain": [
       "Document(page_content='Tonight. I call on the Senate to: Pass the Freedom to Vote Act. Pass the John Lewis Voting Rights Act. And while you’re at it, pass the Disclose Act so Americans can know who is funding our elections. \\n\\nTonight, I’d like to honor someone who has dedicated his life to serve this country: Justice Stephen Breyer—an Army veteran, Constitutional scholar, and retiring Justice of the United States Supreme Court. Justice Breyer, thank you for your service. \\n\\nOne of the most serious constitutional responsibilities a President has is nominating someone to serve on the United States Supreme Court. \\n\\nAnd I did that 4 days ago, when I nominated Circuit Court of Appeals Judge Ketanji Brown Jackson. One of our nation’s top legal minds, who will continue Justice Breyer’s legacy of excellence.', metadata={'source': './data/state_of_the_union.txt'})"
      ]
     },
     "execution_count": 95,
     "metadata": {},
     "output_type": "execute_result"
    }
   ],
   "source": [
    "response[0]"
   ]
  },
  {
   "cell_type": "markdown",
   "id": "aae059e7-8d45-4499-b776-b8516f244728",
   "metadata": {},
   "source": [
    "### 指定前k个"
   ]
  },
  {
   "cell_type": "code",
   "execution_count": 96,
   "id": "f0b16801-329e-4e75-9efc-06cdaac5ad0a",
   "metadata": {},
   "outputs": [],
   "source": [
    "retriever = vector_db.as_retriever(search_kwargs={\"k\": 1})"
   ]
  },
  {
   "cell_type": "code",
   "execution_count": 97,
   "id": "95a8e852-e4a9-4bc3-9411-2832beb27b79",
   "metadata": {},
   "outputs": [],
   "source": [
    "response = retriever.invoke(\"what did he say about ketanji brown jackson?\")"
   ]
  },
  {
   "cell_type": "code",
   "execution_count": 98,
   "id": "b5127a22-dbb4-49c8-8c67-bf0030e48276",
   "metadata": {},
   "outputs": [
    {
     "data": {
      "text/plain": [
       "1"
      ]
     },
     "execution_count": 98,
     "metadata": {},
     "output_type": "execute_result"
    }
   ],
   "source": [
    "len(response)"
   ]
  },
  {
   "cell_type": "code",
   "execution_count": 99,
   "id": "ed662402-06a1-428b-8800-6e7d1c8c8afb",
   "metadata": {},
   "outputs": [
    {
     "data": {
      "text/plain": [
       "[Document(page_content='Tonight. I call on the Senate to: Pass the Freedom to Vote Act. Pass the John Lewis Voting Rights Act. And while you’re at it, pass the Disclose Act so Americans can know who is funding our elections. \\n\\nTonight, I’d like to honor someone who has dedicated his life to serve this country: Justice Stephen Breyer—an Army veteran, Constitutional scholar, and retiring Justice of the United States Supreme Court. Justice Breyer, thank you for your service. \\n\\nOne of the most serious constitutional responsibilities a President has is nominating someone to serve on the United States Supreme Court. \\n\\nAnd I did that 4 days ago, when I nominated Circuit Court of Appeals Judge Ketanji Brown Jackson. One of our nation’s top legal minds, who will continue Justice Breyer’s legacy of excellence.', metadata={'source': './data/state_of_the_union.txt'})]"
      ]
     },
     "execution_count": 99,
     "metadata": {},
     "output_type": "execute_result"
    }
   ],
   "source": [
    "response"
   ]
  },
  {
   "cell_type": "markdown",
   "id": "eca5a05a-8e92-4fde-a67f-b740634d4f17",
   "metadata": {},
   "source": [
    "#### 与LCEL的简单使用及输入输出格式化工具"
   ]
  },
  {
   "cell_type": "code",
   "execution_count": 89,
   "id": "39a59adc-5e4e-47e1-b643-0d4b8970528a",
   "metadata": {},
   "outputs": [],
   "source": [
    "from langchain_openai import ChatOpenAI\n",
    "from langchain_core.prompts import ChatPromptTemplate\n",
    "from langchain_core.output_parsers import StrOutputParser\n",
    "from langchain_core.runnables import RunnablePassthrough\n",
    "\n",
    "template = \"\"\"Answer the question based only on the following context:\n",
    "\n",
    "{context}\n",
    "\n",
    "Question: {question}\n",
    "\"\"\"\n",
    "\n",
    "prompt = ChatPromptTemplate.from_template(template)\n",
    "\n",
    "model = ChatOpenAI()\n",
    "\n",
    "def format_docs(docs):\n",
    "    return \"\\n\\n\".join([d.page_content for d in docs])\n",
    "\n",
    "chain = (\n",
    "    {\"context\": retriever | format_docs, \"question\": RunnablePassthrough()}\n",
    "    | prompt\n",
    "    | model\n",
    "    | StrOutputParser()\n",
    ")\n",
    "\n",
    "response = chain.invoke(\"what did he say about ketanji brown jackson?\")"
   ]
  },
  {
   "cell_type": "markdown",
   "id": "42a5eac4-efb8-4856-a708-9536ed4e8cda",
   "metadata": {},
   "source": [
    "以下是链中每个部分的简单解释：\n",
    "\n",
    "1. **检索相关文档**：首先，系统检索与您所问问题相关的文档。它使用的是一个检索器，旨在根据查询找到最相关的信息。\n",
    "\n",
    "2. **格式化文档**：一旦检索到相关文档，下一步是将它们格式化为可读的格式。函数 `format_docs` 通过提取每个文档的内容并用两个换行符分隔它们来完成这一任务。这会创建一个清晰且结构化的文本块，作为回答问题的背景信息。\n",
    "\n",
    "3. **准备提示**：在格式化完背景信息后，系统使用模板为 AI 模型准备提示。模板通过首先放置格式化的背景信息，然后提出问题来构建输入。这样，AI 模型就能准确知道背景信息是什么，以及需要回答的内容。\n",
    "\n",
    "4. **生成答案**：结构化的提示随后被输入到 AI 模型中，在这种情况下是 ChatOpenAI。AI 阅读组合的背景和问题，并根据所提供文本中的知识生成答案。\n",
    "\n",
    "5. **提取最终答案**：最后，AI 的响应通过 `StrOutputParser` 被解析为简单的文本格式，便于阅读和理解。这一步确保您获得的输出仅仅是答案，排除了 AI 可能输出的任何格式或原始数据。\n",
    "\n",
    "总之，这段代码自动化了获取相关信息、准备信息并请求 AI 提供基于这些信息的清晰答案的过程。就像建立一个迷你问答系统，使 AI 拥有所有必要的背景以提供准确的响应。"
   ]
  },
  {
   "cell_type": "code",
   "execution_count": 90,
   "id": "d303dd24-f146-42fa-9a1c-c42cc536f122",
   "metadata": {},
   "outputs": [
    {
     "data": {
      "text/plain": [
       "\"He said that Ketanji Brown Jackson is one of the nation's top legal minds who will continue Justice Breyer's legacy of excellence.\""
      ]
     },
     "execution_count": 90,
     "metadata": {},
     "output_type": "execute_result"
    }
   ],
   "source": [
    "response"
   ]
  }
 ],
 "metadata": {
  "kernelspec": {
   "display_name": "Python 3 (ipykernel)",
   "language": "python",
   "name": "python3"
  },
  "language_info": {
   "codemirror_mode": {
    "name": "ipython",
    "version": 3
   },
   "file_extension": ".py",
   "mimetype": "text/x-python",
   "name": "python",
   "nbconvert_exporter": "python",
   "pygments_lexer": "ipython3",
   "version": "3.11.4"
  }
 },
 "nbformat": 4,
 "nbformat_minor": 5
}
