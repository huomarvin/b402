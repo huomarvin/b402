{
 "cells": [
  {
   "cell_type": "markdown",
   "id": "465c003a-29cf-4cfe-a0c6-d36c04ae2b37",
   "metadata": {},
   "source": [
    "# 前K个\n",
    "* 决定要检索多少个嵌入以构建您问题的答案"
   ]
  },
  {
   "cell_type": "markdown",
   "id": "af743328-1bc8-4b01-85fb-fcb21c6499c2",
   "metadata": {},
   "source": [
    "## 创建你的 .env 文件\n",
    "* 在 GitHub 仓库中，我们包含了一个名为 .env.example 的文件\n",
    "* 将该文件重命名为 .env 文件，您将在这里添加您的机密 API 密钥。记得包括：\n",
    "* OPENAI_API_KEY=your_openai_api_key\n",
    "* LANGCHAIN_TRACING_V2=true\n",
    "* LANGCHAIN_ENDPOINT=https://api.smith.langchain.com\n",
    "* LANGCHAIN_API_KEY=your_langchain_api_key\n",
    "* LANGCHAIN_PROJECT=your_project_name"
   ]
  },
  {
   "cell_type": "markdown",
   "id": "863dd299-0780-49ad-a1b7-b76e249350da",
   "metadata": {},
   "source": [
    "我们将把我们的LangSmith项目命名为**006-top-k**。"
   ]
  },
  {
   "cell_type": "markdown",
   "id": "4f99504a-1b8f-4360-b342-0b81ffa06aff",
   "metadata": {},
   "source": [
    "## 连接到位于此笔记本相同目录中的 .env 文件"
   ]
  },
  {
   "cell_type": "code",
   "execution_count": 2,
   "id": "fecd39d0-e72e-4bc2-8a68-2fa4008ea365",
   "metadata": {},
   "outputs": [],
   "source": [
    "import os\n",
    "from dotenv import load_dotenv, find_dotenv\n",
    "_ = load_dotenv(find_dotenv())\n",
    "openai_api_key = os.environ[\"OPENAI_API_KEY\"]"
   ]
  },
  {
   "cell_type": "markdown",
   "id": "c573cdd8-3aff-488b-8649-4050a42e26c4",
   "metadata": {},
   "source": [
    "## 向量数据库（即向量存储）：存储和搜索嵌入\n",
    "* 请参阅[文档页面](https://python.langchain.com/v0.1/docs/modules/data_connection/vectorstores/)。\n",
    "* 请参阅向量存储的列表[这里](https://python.langchain.com/v0.1/docs/integrations/vectorstores/)。"
   ]
  },
  {
   "cell_type": "code",
   "execution_count": 6,
   "id": "8e0c5a1d-10d3-4813-a5e3-765c2127e174",
   "metadata": {},
   "outputs": [],
   "source": [
    "from langchain_community.document_loaders import TextLoader\n",
    "from langchain_openai import OpenAIEmbeddings\n",
    "from langchain_text_splitters import CharacterTextSplitter\n",
    "from langchain_chroma import Chroma\n",
    "\n",
    "# Load the document, split it into chunks, embed each chunk and load it into the vector store.\n",
    "loaded_document = TextLoader('./data/state_of_the_union.txt').load()\n",
    "\n",
    "text_splitter = CharacterTextSplitter(chunk_size=1000, chunk_overlap=0)\n",
    "\n",
    "chunks_of_text = text_splitter.split_documents(loaded_document)\n",
    "\n",
    "vector_db = Chroma.from_documents(chunks_of_text, OpenAIEmbeddings())"
   ]
  },
  {
   "cell_type": "code",
   "execution_count": 7,
   "id": "bdbd14f2-a3ca-40db-887b-b86d65d0b22e",
   "metadata": {},
   "outputs": [
    {
     "name": "stdout",
     "output_type": "stream",
     "text": [
      "Tonight. I call on the Senate to: Pass the Freedom to Vote Act. Pass the John Lewis Voting Rights Act. And while you’re at it, pass the Disclose Act so Americans can know who is funding our elections. \n",
      "\n",
      "Tonight, I’d like to honor someone who has dedicated his life to serve this country: Justice Stephen Breyer—an Army veteran, Constitutional scholar, and retiring Justice of the United States Supreme Court. Justice Breyer, thank you for your service. \n",
      "\n",
      "One of the most serious constitutional responsibilities a President has is nominating someone to serve on the United States Supreme Court. \n",
      "\n",
      "And I did that 4 days ago, when I nominated Circuit Court of Appeals Judge Ketanji Brown Jackson. One of our nation’s top legal minds, who will continue Justice Breyer’s legacy of excellence.\n"
     ]
    }
   ],
   "source": [
    "question = \"What did the president say about the John Lewis Voting Rights Act?\"\n",
    "\n",
    "response = vector_db.similarity_search(question)\n",
    "\n",
    "print(response[0].page_content)"
   ]
  },
  {
   "cell_type": "markdown",
   "id": "9ef75d01-9170-4c07-9a3d-7f936067e85c",
   "metadata": {},
   "source": [
    "## 检索器：根据问题返回响应\n",
    "* 检索器是一个接口，它根据非结构化查询返回文档。它比向量存储更为通用。\n",
    "* 检索器不需要能够存储文档，只需返回（或检索）它们。\n",
    "* 向量存储可以用作检索器的基础，但也有其他类型的检索器。\n",
    "* 请查看文档页面[这里](https://python.langchain.com/v0.1/docs/modules/data_connection/retrievers/)。\n",
    "* 请查看第三方检索器的列表[这里](https://python.langchain.com/v0.1/docs/integrations/retrievers/)。"
   ]
  },
  {
   "cell_type": "markdown",
   "id": "28fc3da7-111f-428c-b897-7d4737ad4d19",
   "metadata": {},
   "source": [
    "#### 向量存储作为检索器"
   ]
  },
  {
   "cell_type": "code",
   "execution_count": 8,
   "id": "47b42931-75c5-465d-a615-7e57531a18de",
   "metadata": {},
   "outputs": [],
   "source": [
    "from langchain_community.document_loaders import TextLoader\n",
    "\n",
    "loader = TextLoader(\"./data/state_of_the_union.txt\")"
   ]
  },
  {
   "cell_type": "code",
   "execution_count": 10,
   "id": "f5dfeb82-ac3c-4d75-895f-c4e099feedcd",
   "metadata": {},
   "outputs": [],
   "source": [
    "from langchain_community.vectorstores import FAISS\n",
    "from langchain_openai import OpenAIEmbeddings\n",
    "from langchain_text_splitters import CharacterTextSplitter\n",
    "\n",
    "loaded_document = loader.load()\n",
    "\n",
    "text_splitter = CharacterTextSplitter(chunk_size=1000, chunk_overlap=0)\n",
    "\n",
    "chunks_of_text = text_splitter.split_documents(loaded_document)\n",
    "\n",
    "embeddings = OpenAIEmbeddings()\n",
    "\n",
    "vector_db = FAISS.from_documents(chunks_of_text, embeddings)"
   ]
  },
  {
   "cell_type": "code",
   "execution_count": 11,
   "id": "b5915c97-525d-4091-a6e7-e12ed91e7d70",
   "metadata": {},
   "outputs": [],
   "source": [
    "retriever = vector_db.as_retriever()"
   ]
  },
  {
   "cell_type": "markdown",
   "id": "f999f074-13c2-4fb5-b04f-9d0c7eb93cc4",
   "metadata": {},
   "source": [
    "#### 简单使用无需 LCEL"
   ]
  },
  {
   "cell_type": "code",
   "execution_count": 12,
   "id": "bfbe3f81-a42e-4638-862a-1875bca182d9",
   "metadata": {},
   "outputs": [],
   "source": [
    "response = retriever.invoke(\"what did he say about ketanji brown jackson?\")"
   ]
  },
  {
   "cell_type": "code",
   "execution_count": 13,
   "id": "aea950f3-26eb-496b-8561-303c78c53604",
   "metadata": {},
   "outputs": [
    {
     "data": {
      "text/plain": [
       "4"
      ]
     },
     "execution_count": 13,
     "metadata": {},
     "output_type": "execute_result"
    }
   ],
   "source": [
    "len(response)"
   ]
  },
  {
   "cell_type": "code",
   "execution_count": 14,
   "id": "22e24601-0892-4e50-b616-e9ed23b927c6",
   "metadata": {},
   "outputs": [
    {
     "data": {
      "text/plain": [
       "Document(metadata={'source': './data/state_of_the_union.txt'}, page_content='Tonight. I call on the Senate to: Pass the Freedom to Vote Act. Pass the John Lewis Voting Rights Act. And while you’re at it, pass the Disclose Act so Americans can know who is funding our elections. \\n\\nTonight, I’d like to honor someone who has dedicated his life to serve this country: Justice Stephen Breyer—an Army veteran, Constitutional scholar, and retiring Justice of the United States Supreme Court. Justice Breyer, thank you for your service. \\n\\nOne of the most serious constitutional responsibilities a President has is nominating someone to serve on the United States Supreme Court. \\n\\nAnd I did that 4 days ago, when I nominated Circuit Court of Appeals Judge Ketanji Brown Jackson. One of our nation’s top legal minds, who will continue Justice Breyer’s legacy of excellence.')"
      ]
     },
     "execution_count": 14,
     "metadata": {},
     "output_type": "execute_result"
    }
   ],
   "source": [
    "response[0]"
   ]
  },
  {
   "cell_type": "markdown",
   "id": "aae059e7-8d45-4499-b776-b8516f244728",
   "metadata": {},
   "source": [
    "### 指定前k个"
   ]
  },
  {
   "cell_type": "code",
   "execution_count": 15,
   "id": "f0b16801-329e-4e75-9efc-06cdaac5ad0a",
   "metadata": {},
   "outputs": [],
   "source": [
    "retriever = vector_db.as_retriever(search_kwargs={\"k\": 1})"
   ]
  },
  {
   "cell_type": "markdown",
   "id": "0655b3a6-212a-4bfa-9ae2-208efa17e44c",
   "metadata": {},
   "source": [
    "这是对发生情况的简单解释：\n",
    "\n",
    "- **`search_kwargs={\"k\": 1}`**：这个参数是在从向量数据库创建检索对象时设置的。在这里，`k`代表要检索的与查询最相似的结果或文档数量。通过将`k`设置为1，代码指定检索器应仅返回与查询最相关的单个文档或文本片段。\n",
    "\n",
    "因此，当您使用该参数时：\n",
    "- **目的**：它告诉检索器将检索的文档数量限制为最相关结果中的前1个。\n",
    "- **用法**：当您仅对查询的最佳匹配感兴趣，而不是其他紧密相关的匹配时，这一点特别有用。\n",
    "\n",
    "在这个例子中，当检索器被调用以查询有关“基坦吉·布朗·杰克逊”的说法时，它只会从数据库中返回单个最相关的信息或文档，而不是提供几个可能的答案。\n",
    "\n",
    "这种方法对于需要清晰和精确比广度更有价值的应用非常有用，例如当您需要对特定问题的简洁回答，而不需要可能稍微不相关的额外上下文时。"
   ]
  },
  {
   "cell_type": "code",
   "execution_count": 16,
   "id": "95a8e852-e4a9-4bc3-9411-2832beb27b79",
   "metadata": {},
   "outputs": [],
   "source": [
    "response = retriever.invoke(\"what did he say about ketanji brown jackson?\")"
   ]
  },
  {
   "cell_type": "code",
   "execution_count": 17,
   "id": "b5127a22-dbb4-49c8-8c67-bf0030e48276",
   "metadata": {},
   "outputs": [
    {
     "data": {
      "text/plain": [
       "1"
      ]
     },
     "execution_count": 17,
     "metadata": {},
     "output_type": "execute_result"
    }
   ],
   "source": [
    "len(response)"
   ]
  },
  {
   "cell_type": "code",
   "execution_count": 18,
   "id": "ed662402-06a1-428b-8800-6e7d1c8c8afb",
   "metadata": {},
   "outputs": [
    {
     "data": {
      "text/plain": [
       "[Document(metadata={'source': './data/state_of_the_union.txt'}, page_content='Tonight. I call on the Senate to: Pass the Freedom to Vote Act. Pass the John Lewis Voting Rights Act. And while you’re at it, pass the Disclose Act so Americans can know who is funding our elections. \\n\\nTonight, I’d like to honor someone who has dedicated his life to serve this country: Justice Stephen Breyer—an Army veteran, Constitutional scholar, and retiring Justice of the United States Supreme Court. Justice Breyer, thank you for your service. \\n\\nOne of the most serious constitutional responsibilities a President has is nominating someone to serve on the United States Supreme Court. \\n\\nAnd I did that 4 days ago, when I nominated Circuit Court of Appeals Judge Ketanji Brown Jackson. One of our nation’s top legal minds, who will continue Justice Breyer’s legacy of excellence.')]"
      ]
     },
     "execution_count": 18,
     "metadata": {},
     "output_type": "execute_result"
    }
   ],
   "source": [
    "response"
   ]
  },
  {
   "cell_type": "code",
   "execution_count": null,
   "id": "b1af248e-6069-44b3-a2cd-a20aa3259874",
   "metadata": {},
   "outputs": [],
   "source": []
  }
 ],
 "metadata": {
  "kernelspec": {
   "display_name": "Python 3 (ipykernel)",
   "language": "python",
   "name": "python3"
  },
  "language_info": {
   "codemirror_mode": {
    "name": "ipython",
    "version": 3
   },
   "file_extension": ".py",
   "mimetype": "text/x-python",
   "name": "python",
   "nbconvert_exporter": "python",
   "pygments_lexer": "ipython3",
   "version": "3.11.4"
  }
 },
 "nbformat": 4,
 "nbformat_minor": 5
}
