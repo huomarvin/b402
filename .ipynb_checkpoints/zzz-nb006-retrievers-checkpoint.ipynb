{
 "cells": [
  {
   "cell_type": "markdown",
   "id": "465c003a-29cf-4cfe-a0c6-d36c04ae2b37",
   "metadata": {},
   "source": [
    "# 向量存储作为检索器\n",
    "* 找到最能回答您问题的嵌入。"
   ]
  },
  {
   "cell_type": "markdown",
   "id": "af743328-1bc8-4b01-85fb-fcb21c6499c2",
   "metadata": {},
   "source": [
    "## 创建您的 .env 文件\n",
    "* 在 GitHub 仓库中，我们包含了一个名为 .env.example 的文件\n",
    "* 将该文件重命名为 .env 文件，这里将添加您的机密 API 密钥。请记得包括：\n",
    "* OPENAI_API_KEY=your_openai_api_key\n",
    "* LANGCHAIN_TRACING_V2=true\n",
    "* LANGCHAIN_ENDPOINT=https://api.smith.langchain.com\n",
    "* LANGCHAIN_API_KEY=your_langchain_api_key\n",
    "* LANGCHAIN_PROJECT=your_project_name"
   ]
  },
  {
   "cell_type": "markdown",
   "id": "863dd299-0780-49ad-a1b7-b76e249350da",
   "metadata": {},
   "source": [
    "我们将把我们的LangSmith项目称为**005-retrievers**。"
   ]
  },
  {
   "cell_type": "code",
   "execution_count": 2,
   "id": "fecd39d0-e72e-4bc2-8a68-2fa4008ea365",
   "metadata": {},
   "outputs": [],
   "source": [
    "import os\n",
    "from dotenv import load_dotenv, find_dotenv\n",
    "_ = load_dotenv(find_dotenv())\n",
    "openai_api_key = os.environ[\"OPENAI_API_KEY\"]"
   ]
  },
  {
   "cell_type": "markdown",
   "id": "c573cdd8-3aff-488b-8649-4050a42e26c4",
   "metadata": {},
   "source": [
    "## 向量数据库（即向量存储）：存储和搜索嵌入\n",
    "* 请查看文档页面 [这里](https://python.langchain.com/v0.1/docs/modules/data_connection/vectorstores/)。\n",
    "* 请查看向量存储的列表 [这里](https://python.langchain.com/v0.1/docs/integrations/vectorstores/)。"
   ]
  },
  {
   "cell_type": "code",
   "execution_count": 6,
   "id": "8e0c5a1d-10d3-4813-a5e3-765c2127e174",
   "metadata": {},
   "outputs": [],
   "source": [
    "from langchain_community.document_loaders import TextLoader\n",
    "from langchain_openai import OpenAIEmbeddings\n",
    "from langchain_text_splitters import CharacterTextSplitter\n",
    "from langchain_chroma import Chroma\n",
    "\n",
    "# Load the document, split it into chunks, embed each chunk and load it into the vector store.\n",
    "loaded_document = TextLoader('./data/state_of_the_union.txt').load()\n",
    "\n",
    "text_splitter = CharacterTextSplitter(chunk_size=1000, chunk_overlap=0)\n",
    "\n",
    "chunks_of_text = text_splitter.split_documents(loaded_document)\n",
    "\n",
    "vector_db = Chroma.from_documents(chunks_of_text, OpenAIEmbeddings())"
   ]
  },
  {
   "cell_type": "code",
   "execution_count": 7,
   "id": "bdbd14f2-a3ca-40db-887b-b86d65d0b22e",
   "metadata": {},
   "outputs": [
    {
     "name": "stdout",
     "output_type": "stream",
     "text": [
      "Tonight. I call on the Senate to: Pass the Freedom to Vote Act. Pass the John Lewis Voting Rights Act. And while you’re at it, pass the Disclose Act so Americans can know who is funding our elections. \n",
      "\n",
      "Tonight, I’d like to honor someone who has dedicated his life to serve this country: Justice Stephen Breyer—an Army veteran, Constitutional scholar, and retiring Justice of the United States Supreme Court. Justice Breyer, thank you for your service. \n",
      "\n",
      "One of the most serious constitutional responsibilities a President has is nominating someone to serve on the United States Supreme Court. \n",
      "\n",
      "And I did that 4 days ago, when I nominated Circuit Court of Appeals Judge Ketanji Brown Jackson. One of our nation’s top legal minds, who will continue Justice Breyer’s legacy of excellence.\n"
     ]
    }
   ],
   "source": [
    "question = \"What did the president say about the John Lewis Voting Rights Act?\"\n",
    "\n",
    "response = vector_db.similarity_search(question)\n",
    "\n",
    "print(response[0].page_content)"
   ]
  },
  {
   "cell_type": "markdown",
   "id": "7973fcab-3edc-4764-8ecd-20329a30943a",
   "metadata": {},
   "source": [
    "## 向量存储与检索器\n",
    "\n",
    "1. **目的和功能**：\n",
    "   - **向量存储**：这些是专门设计用于以向量的形式存储信息（表示文本或其他信息的高维数据点）的数据库。向量存储主要用于快速搜索和检索基于查询向量的相似向量。它们专注于高效处理存储向量与任何查询向量之间的相似性比较。\n",
    "   - **检索器**：检索器是更通用的工具，使用各种方法，包括向量存储，来查找和返回与查询相关的文档或信息。检索器不一定存储信息本身，但知道在需要时如何访问和检索它。\n",
    "\n",
    "2. **存储与检索**：\n",
    "   - **向量存储**：顾名思义，这些主要关注以结构化方式存储数据，从而快速高效地执行相似性搜索。\n",
    "   - **检索器**：虽然它们可能利用像向量存储这样的存储系统，但检索器更关注于根据用户的查询获取正确信息的行为。它们的主要任务是根据接收到的输入向最终用户提供最相关的信息或文档。\n",
    "\n",
    "3. **灵活性**：\n",
    "   - **向量存储**：这些在处理涉及存储向量之间相似性搜索的任务范围上有所限制。它们是用于特定类型数据检索任务的特定工具。\n",
    "   - **检索器**：它们可以设计为使用不同的后端系统（如向量存储或其他数据库），并且可以是涉及更复杂数据处理或响应生成的更大系统的一部分。\n",
    "\n",
    "总之，LangChain中的向量存储是关于如何存储信息并基于相似性高效访问，而检索器则是关于使用各种方法（包括向量存储）主动获取和返回针对不同查询的正确信息。"
   ]
  },
  {
   "cell_type": "markdown",
   "id": "9ef75d01-9170-4c07-9a3d-7f936067e85c",
   "metadata": {},
   "source": [
    "## 检索器：根据问题返回响应\n",
    "\n",
    "1. **检索器：根据问题返回响应** - 检索器是一种工具，当您提出问题或查询时，它提供特定的信息或文档。\n",
    "\n",
    "2. **检索器是一个根据非结构化查询返回文档的接口。它比向量存储更为一般化。** - 检索器的工作是处理没有固定格式的问题（非结构化查询），并根据该问题找到相关文档。这是一个广泛的工具，比仅仅将信息组织起来以提高检索效率的向量存储更为多功能。\n",
    "\n",
    "3. **检索器不需要能够存储文档，仅需返回（或检索）它们。** - 检索器的主要工作是在被询问时找到并返回文档；它不必自己存储这些文档。它可以找到存储在其他地方的文档。\n",
    "\n",
    "4. **向量存储可以用作检索器的基础，但还有其他类型的检索器。** - 尽管许多检索器使用一种称为向量存储的系统来帮助快速找到正确的文档（向量存储将信息组织成易于搜索的格式），但还有其他方法可以构建不依赖于这种方法的检索器。\n",
    "\n",
    "总体而言，检索器通过搜索文档帮助您从大量数据中找到所需的信息，并可以使用不同的方法有效地完成这一任务。\n",
    "* 查看文档页面 [这里](https://python.langchain.com/v0.1/docs/modules/data_connection/retrievers/)。\n",
    "* 查看第三方检索器列表 [这里](https://python.langchain.com/v0.1/docs/integrations/retrievers/)。"
   ]
  },
  {
   "cell_type": "markdown",
   "id": "28fc3da7-111f-428c-b897-7d4737ad4d19",
   "metadata": {},
   "source": [
    "#### 向量存储作为检索器"
   ]
  },
  {
   "cell_type": "code",
   "execution_count": 8,
   "id": "47b42931-75c5-465d-a615-7e57531a18de",
   "metadata": {},
   "outputs": [],
   "source": [
    "from langchain_community.document_loaders import TextLoader\n",
    "\n",
    "loader = TextLoader(\"./data/state_of_the_union.txt\")"
   ]
  },
  {
   "cell_type": "code",
   "execution_count": 10,
   "id": "f5dfeb82-ac3c-4d75-895f-c4e099feedcd",
   "metadata": {},
   "outputs": [],
   "source": [
    "from langchain_community.vectorstores import FAISS\n",
    "from langchain_openai import OpenAIEmbeddings\n",
    "from langchain_text_splitters import CharacterTextSplitter\n",
    "\n",
    "loaded_document = loader.load()\n",
    "\n",
    "text_splitter = CharacterTextSplitter(chunk_size=1000, chunk_overlap=0)\n",
    "\n",
    "chunks_of_text = text_splitter.split_documents(loaded_document)\n",
    "\n",
    "embeddings = OpenAIEmbeddings()\n",
    "\n",
    "vector_db = FAISS.from_documents(chunks_of_text, embeddings)"
   ]
  },
  {
   "cell_type": "code",
   "execution_count": 11,
   "id": "b5915c97-525d-4091-a6e7-e12ed91e7d70",
   "metadata": {},
   "outputs": [],
   "source": [
    "retriever = vector_db.as_retriever()"
   ]
  },
  {
   "cell_type": "markdown",
   "id": "8acfc83e-6088-438b-bdc0-3c876916e190",
   "metadata": {},
   "source": [
    "## 差异 .similarity_search 与 .as_retriever()\n",
    "这两种方法都涉及根据查询找到最相关的文本，但它们的结构不同，并且可能根据其实现提供不同的功能。\n",
    "\n",
    "#### `.similarity_search`\n",
    "\n",
    "此方法直接对向量数据库执行相似性搜索，在您的第一个代码片段中，由 `Chroma` 类管理。该过程包括：\n",
    "- 使用与嵌入文档块相同的模型对输入查询进行嵌入。\n",
    "- 在向量数据库中搜索与查询嵌入最接近的向量。\n",
    "- 根据其与查询的语义相似性返回最相关的块。\n",
    "\n",
    "此方法直截了当，通常在您需要快速找到和检索与查询最佳匹配的文本片段时使用。\n",
    "\n",
    "#### `.as_retriever()`\n",
    "\n",
    "此方法涉及不同的方式：\n",
    "1. **检索器设置**：在第二个代码片段中，`vector_db.as_retriever()` 将向量数据库（在这种情况下由 `FAISS` 管理）转换为检索器对象。该对象将相似性搜索抽象为可以在更复杂的检索增强生成（RAG）任务中使用的检索模型。\n",
    "2. **调用方法**：然后，在检索器上使用 `invoke()` 函数执行查询。此方法可以是一个更大系统的一部分，其中检索器与其他组件（如语言模型）集成，以生成答案或进一步处理检索到的文档。\n",
    "\n",
    "#### 主要区别\n",
    "\n",
    "- **灵活性**：`.as_retriever()` 提供了更灵活的接口，可以集成到更大、更复杂的系统中，可能将检索与生成（如在 RAG 设置中）相结合。此方法在检索的内容可能用作进一步处理或回答生成的输入的应用中是有益的。\n",
    "- **后端实现**：虽然 `.similarity_search` 直接访问向量数据库，但 `.as_retriever()` 将这一访问封装在检索器对象中，该对象可能具有用于特定检索任务的附加功能或优化。\n",
    "- **用例**：直接的 `.similarity_search` 在简单的查询到文档检索任务中可能更快且更直接。相比之下，`.as_retriever()` 可以用于需要在检索后进行额外步骤的场景，例如将检索到的信息输入语言模型以生成连贯且上下文意识的响应。\n",
    "\n",
    "这两种方法都是有用的，但它们的适用性取决于您应用的具体需求，例如您是否需要简单的检索或更复杂的检索增强生成过程。"
   ]
  },
  {
   "cell_type": "markdown",
   "id": "f999f074-13c2-4fb5-b04f-9d0c7eb93cc4",
   "metadata": {},
   "source": [
    "#### Simple use without LCEL"
   ]
  },
  {
   "cell_type": "code",
   "execution_count": 12,
   "id": "bfbe3f81-a42e-4638-862a-1875bca182d9",
   "metadata": {},
   "outputs": [],
   "source": [
    "response = retriever.invoke(\"what did he say about ketanji brown jackson?\")"
   ]
  },
  {
   "cell_type": "code",
   "execution_count": 13,
   "id": "aea950f3-26eb-496b-8561-303c78c53604",
   "metadata": {},
   "outputs": [
    {
     "data": {
      "text/plain": [
       "4"
      ]
     },
     "execution_count": 13,
     "metadata": {},
     "output_type": "execute_result"
    }
   ],
   "source": [
    "len(response)"
   ]
  },
  {
   "cell_type": "code",
   "execution_count": 14,
   "id": "22e24601-0892-4e50-b616-e9ed23b927c6",
   "metadata": {},
   "outputs": [
    {
     "data": {
      "text/plain": [
       "Document(metadata={'source': './data/state_of_the_union.txt'}, page_content='Tonight. I call on the Senate to: Pass the Freedom to Vote Act. Pass the John Lewis Voting Rights Act. And while you’re at it, pass the Disclose Act so Americans can know who is funding our elections. \\n\\nTonight, I’d like to honor someone who has dedicated his life to serve this country: Justice Stephen Breyer—an Army veteran, Constitutional scholar, and retiring Justice of the United States Supreme Court. Justice Breyer, thank you for your service. \\n\\nOne of the most serious constitutional responsibilities a President has is nominating someone to serve on the United States Supreme Court. \\n\\nAnd I did that 4 days ago, when I nominated Circuit Court of Appeals Judge Ketanji Brown Jackson. One of our nation’s top legal minds, who will continue Justice Breyer’s legacy of excellence.')"
      ]
     },
     "execution_count": 14,
     "metadata": {},
     "output_type": "execute_result"
    }
   ],
   "source": [
    "response[0]"
   ]
  },
  {
   "cell_type": "code",
   "execution_count": 15,
   "id": "d303dd24-f146-42fa-9a1c-c42cc536f122",
   "metadata": {},
   "outputs": [
    {
     "data": {
      "text/plain": [
       "[Document(metadata={'source': './data/state_of_the_union.txt'}, page_content='Tonight. I call on the Senate to: Pass the Freedom to Vote Act. Pass the John Lewis Voting Rights Act. And while you’re at it, pass the Disclose Act so Americans can know who is funding our elections. \\n\\nTonight, I’d like to honor someone who has dedicated his life to serve this country: Justice Stephen Breyer—an Army veteran, Constitutional scholar, and retiring Justice of the United States Supreme Court. Justice Breyer, thank you for your service. \\n\\nOne of the most serious constitutional responsibilities a President has is nominating someone to serve on the United States Supreme Court. \\n\\nAnd I did that 4 days ago, when I nominated Circuit Court of Appeals Judge Ketanji Brown Jackson. One of our nation’s top legal minds, who will continue Justice Breyer’s legacy of excellence.'),\n",
       " Document(metadata={'source': './data/state_of_the_union.txt'}, page_content='A former top litigator in private practice. A former federal public defender. And from a family of public school educators and police officers. A consensus builder. Since she’s been nominated, she’s received a broad range of support—from the Fraternal Order of Police to former judges appointed by Democrats and Republicans. \\n\\nAnd if we are to advance liberty and justice, we need to secure the Border and fix the immigration system. \\n\\nWe can do both. At our border, we’ve installed new technology like cutting-edge scanners to better detect drug smuggling.  \\n\\nWe’ve set up joint patrols with Mexico and Guatemala to catch more human traffickers.  \\n\\nWe’re putting in place dedicated immigration judges so families fleeing persecution and violence can have their cases heard faster. \\n\\nWe’re securing commitments and supporting partners in South and Central America to host more refugees and secure their own borders.'),\n",
       " Document(metadata={'source': './data/state_of_the_union.txt'}, page_content='But cancer from prolonged exposure to burn pits ravaged Heath’s lungs and body. \\n\\nDanielle says Heath was a fighter to the very end. \\n\\nHe didn’t know how to stop fighting, and neither did she. \\n\\nThrough her pain she found purpose to demand we do better. \\n\\nTonight, Danielle—we are. \\n\\nThe VA is pioneering new ways of linking toxic exposures to diseases, already helping more veterans get benefits. \\n\\nAnd tonight, I’m announcing we’re expanding eligibility to veterans suffering from nine respiratory cancers. \\n\\nI’m also calling on Congress: pass a law to make sure veterans devastated by toxic exposures in Iraq and Afghanistan finally get the benefits and comprehensive health care they deserve. \\n\\nAnd fourth, let’s end cancer as we know it. \\n\\nThis is personal to me and Jill, to Kamala, and to so many of you. \\n\\nCancer is the #2 cause of death in America–second only to heart disease.'),\n",
       " Document(metadata={'source': './data/state_of_the_union.txt'}, page_content='One was stationed at bases and breathing in toxic smoke from “burn pits” that incinerated wastes of war—medical and hazard material, jet fuel, and more. \\n\\nWhen they came home, many of the world’s fittest and best trained warriors were never the same. \\n\\nHeadaches. Numbness. Dizziness. \\n\\nA cancer that would put them in a flag-draped coffin. \\n\\nI know. \\n\\nOne of those soldiers was my son Major Beau Biden. \\n\\nWe don’t know for sure if a burn pit was the cause of his brain cancer, or the diseases of so many of our troops. \\n\\nBut I’m committed to finding out everything we can. \\n\\nCommitted to military families like Danielle Robinson from Ohio. \\n\\nThe widow of Sergeant First Class Heath Robinson.  \\n\\nHe was born a soldier. Army National Guard. Combat medic in Kosovo and Iraq. \\n\\nStationed near Baghdad, just yards from burn pits the size of football fields. \\n\\nHeath’s widow Danielle is here with us tonight. They loved going to Ohio State football games. He loved building Legos with their daughter.')]"
      ]
     },
     "execution_count": 15,
     "metadata": {},
     "output_type": "execute_result"
    }
   ],
   "source": [
    "response"
   ]
  }
 ],
 "metadata": {
  "kernelspec": {
   "display_name": "Python 3 (ipykernel)",
   "language": "python",
   "name": "python3"
  },
  "language_info": {
   "codemirror_mode": {
    "name": "ipython",
    "version": 3
   },
   "file_extension": ".py",
   "mimetype": "text/x-python",
   "name": "python",
   "nbconvert_exporter": "python",
   "pygments_lexer": "ipython3",
   "version": "3.11.4"
  }
 },
 "nbformat": 4,
 "nbformat_minor": 5
}
