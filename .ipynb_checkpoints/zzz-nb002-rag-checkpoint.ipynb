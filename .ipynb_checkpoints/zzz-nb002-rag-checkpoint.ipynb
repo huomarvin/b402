{
 "cells": [
  {
   "cell_type": "markdown",
   "id": "465c003a-29cf-4cfe-a0c6-d36c04ae2b37",
   "metadata": {},
   "source": [
    "# RAG简介\n",
    "* 加载**大型**数据资产并向LLM提问。"
   ]
  },
  {
   "cell_type": "markdown",
   "id": "c811b84c-7054-49dd-b0ac-30f327f648a0",
   "metadata": {},
   "source": [
    "## 如果加载的数据太大怎么办？我们将使用RAG。\n",
    "* 当您加载文档时，最终会得到字符串。有时字符串会太大，无法适应上下文窗口。在这种情况下，我们将使用RAG技术：\n",
    "    * 将文档拆分为小块。\n",
    "    * 将文本块转换为数值块（嵌入）。\n",
    "    * 将嵌入加载到向量数据库（即向量存储）中。\n",
    "    * 加载问题并检索最相关的嵌入以进行响应。\n",
    "    * 将嵌入发送给LLM，以正确格式化响应。"
   ]
  },
  {
   "cell_type": "markdown",
   "id": "612257a1-3fae-48ea-b056-f2de196001c4",
   "metadata": {},
   "source": [
    "## 让我们在以下笔记本中逐步了解RAG。"
   ]
  },
  {
   "cell_type": "code",
   "execution_count": null,
   "id": "2801b4bd-13a5-44f6-8dac-855115177b9b",
   "metadata": {},
   "outputs": [],
   "source": []
  }
 ],
 "metadata": {
  "kernelspec": {
   "display_name": "Python 3 (ipykernel)",
   "language": "python",
   "name": "python3"
  },
  "language_info": {
   "codemirror_mode": {
    "name": "ipython",
    "version": 3
   },
   "file_extension": ".py",
   "mimetype": "text/x-python",
   "name": "python",
   "nbconvert_exporter": "python",
   "pygments_lexer": "ipython3",
   "version": "3.11.4"
  }
 },
 "nbformat": 4,
 "nbformat_minor": 5
}
