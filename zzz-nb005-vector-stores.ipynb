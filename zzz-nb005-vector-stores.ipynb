{
 "cells": [
  {
   "cell_type": "markdown",
   "id": "465c003a-29cf-4cfe-a0c6-d36c04ae2b37",
   "metadata": {},
   "source": [
    "# 向量存储（即向量数据库）\n",
    "* 在非常快速的可搜索数据库中存储嵌入。"
   ]
  },
  {
   "cell_type": "markdown",
   "id": "be46161e-45e9-46d7-8214-bcbea10aff2e",
   "metadata": {},
   "source": [
    "## Setup"
   ]
  },
  {
   "cell_type": "markdown",
   "id": "af743328-1bc8-4b01-85fb-fcb21c6499c2",
   "metadata": {},
   "source": [
    "## 创建你的 .env 文件\n",
    "* 在 GitHub 仓库中，我们包含了一个名为 .env.example 的文件\n",
    "* 将该文件重命名为 .env 文件，这里是你添加机密 API 密钥的地方。记得包括：\n",
    "* OPENAI_API_KEY=你的_openai_api_key\n",
    "* LANGCHAIN_TRACING_V2=true\n",
    "* LANGCHAIN_ENDPOINT=https://api.smith.langchain.com\n",
    "* LANGCHAIN_API_KEY=你的_langchain_api_key\n",
    "* LANGCHAIN_PROJECT=你的项目名称"
   ]
  },
  {
   "cell_type": "markdown",
   "id": "863dd299-0780-49ad-a1b7-b76e249350da",
   "metadata": {},
   "source": [
    "我们将我们的 LangSmith 项目称为 **004-vector-stores**。"
   ]
  },
  {
   "cell_type": "markdown",
   "id": "4f99504a-1b8f-4360-b342-0b81ffa06aff",
   "metadata": {},
   "source": [
    "## Connect with the .env file located in the same directory of this notebook"
   ]
  },
  {
   "cell_type": "code",
   "execution_count": 2,
   "id": "fecd39d0-e72e-4bc2-8a68-2fa4008ea365",
   "metadata": {},
   "outputs": [],
   "source": [
    "import os\n",
    "from dotenv import load_dotenv, find_dotenv\n",
    "_ = load_dotenv(find_dotenv())\n",
    "openai_api_key = os.environ[\"OPENAI_API_KEY\"]"
   ]
  },
  {
   "cell_type": "code",
   "execution_count": 5,
   "id": "209b683b-5edc-4418-9468-34c12f1172d8",
   "metadata": {},
   "outputs": [],
   "source": [
    "from langchain_openai import ChatOpenAI\n",
    "\n",
    "chatModel = ChatOpenAI(model=\"gpt-3.5-turbo-0125\")"
   ]
  },
  {
   "cell_type": "markdown",
   "id": "c811b84c-7054-49dd-b0ac-30f327f648a0",
   "metadata": {},
   "source": [
    "## 提醒：RAG 过程的步骤。\n",
    "* 当您加载文档时，最终会得到字符串。有时这些字符串会太大，无法适应上下文窗口。在这种情况下，我们将使用 RAG 技术：\n",
    "    * 将文档拆分成小块。\n",
    "    * 将文本块转换为数值块（嵌入）。\n",
    "    * **将嵌入加载到向量数据库（即向量存储）中**。\n",
    "    * 加载问题并检索最相关的嵌入以进行回答。\n",
    "    * 将嵌入发送给 LLM 以正确格式化响应。"
   ]
  },
  {
   "cell_type": "markdown",
   "id": "c573cdd8-3aff-488b-8649-4050a42e26c4",
   "metadata": {},
   "source": [
    "## 向量数据库（即向量存储）：存储和搜索嵌入\n",
    "* 查看文档页面 [在这里](https://python.langchain.com/v0.1/docs/modules/data_connection/vectorstores/)。\n",
    "* 查看向量存储的列表 [在这里](https://python.langchain.com/v0.1/docs/integrations/vectorstores/)。"
   ]
  },
  {
   "cell_type": "code",
   "execution_count": 7,
   "id": "8e0c5a1d-10d3-4813-a5e3-765c2127e174",
   "metadata": {},
   "outputs": [],
   "source": [
    "from langchain_community.document_loaders import TextLoader\n",
    "from langchain_openai import OpenAIEmbeddings\n",
    "from langchain_text_splitters import CharacterTextSplitter\n",
    "from langchain_chroma import Chroma\n",
    "\n",
    "# Load the document, split it into chunks, embed each chunk and load it into the vector store.\n",
    "loaded_document = TextLoader('./data/state_of_the_union.txt').load()\n",
    "\n",
    "text_splitter = CharacterTextSplitter(chunk_size=1000, chunk_overlap=0)\n",
    "\n",
    "chunks_of_text = text_splitter.split_documents(loaded_document)\n",
    "\n",
    "vector_db = Chroma.from_documents(chunks_of_text, OpenAIEmbeddings())"
   ]
  },
  {
   "cell_type": "code",
   "execution_count": 8,
   "id": "bdbd14f2-a3ca-40db-887b-b86d65d0b22e",
   "metadata": {},
   "outputs": [
    {
     "name": "stdout",
     "output_type": "stream",
     "text": [
      "Tonight. I call on the Senate to: Pass the Freedom to Vote Act. Pass the John Lewis Voting Rights Act. And while you’re at it, pass the Disclose Act so Americans can know who is funding our elections. \n",
      "\n",
      "Tonight, I’d like to honor someone who has dedicated his life to serve this country: Justice Stephen Breyer—an Army veteran, Constitutional scholar, and retiring Justice of the United States Supreme Court. Justice Breyer, thank you for your service. \n",
      "\n",
      "One of the most serious constitutional responsibilities a President has is nominating someone to serve on the United States Supreme Court. \n",
      "\n",
      "And I did that 4 days ago, when I nominated Circuit Court of Appeals Judge Ketanji Brown Jackson. One of our nation’s top legal minds, who will continue Justice Breyer’s legacy of excellence.\n"
     ]
    }
   ],
   "source": [
    "question = \"What did the president say about the John Lewis Voting Rights Act?\"\n",
    "\n",
    "response = vector_db.similarity_search(question)\n",
    "\n",
    "print(response[0].page_content)"
   ]
  },
  {
   "cell_type": "markdown",
   "id": "b9d43131-adf6-4d17-a256-05432a834b29",
   "metadata": {},
   "source": [
    "在之前的代码中，`.similarity_search` 方法用于从已处理的文档中查找与给定查询相似的最相关文本块。以下是按步骤的工作原理：\n",
    "\n",
    "1. **文档处理和嵌入：**\n",
    "   - 使用 LangChain Community 包中的 `TextLoader` 加载文档 `state_of_the_union.txt`。\n",
    "   - 然后使用 `CharacterTextSplitter` 将文档拆分为较小的文本块，每个块长 1000 个字符，且块之间没有重叠。\n",
    "   - 每个文本块随后通过 `OpenAIEmbeddings` 转换为嵌入。嵌入是表示文本语义内容的高维向量。\n",
    "   - 这些嵌入存储在 `Chroma` 的实例中，它作为一个优化了高效相似性搜索的向量数据库。\n",
    "\n",
    "2. **使用 `.similarity_search`：**\n",
    "   - 当您调用 `vector_db.similarity_search(question)` 时，该方法使用与文本块相同的方法将查询（`\"总统关于约翰·刘易斯投票权法案说了什么？\"`）转换为嵌入。\n",
    "   - 然后在向量数据库（`vector_db`）中搜索，与查询的嵌入最相似的文本块的嵌入。该相似性通常使用余弦相似度等指标进行测量。\n",
    "   - 搜索结果按相关性排序，最相关的文本块（与查询在语义上最接近的文本块）首先返回。\n",
    "\n",
    "3. **输出：**\n",
    "   - `.similarity_search` 的结果保存在 `response` 中，包含相关文本块及其相似性分数。\n",
    "   - 脚本打印出最相关文本块的内容（第一个结果），理想情况下应包含总统关于约翰·刘易斯投票权法案的言论信息。\n",
    "\n",
    "此方法在问答或文档检索等应用中尤其有用，您需要根据查询快速找到大型文本中最相关的部分。"
   ]
  }
 ],
 "metadata": {
  "kernelspec": {
   "display_name": "Python 3 (ipykernel)",
   "language": "python",
   "name": "python3"
  },
  "language_info": {
   "codemirror_mode": {
    "name": "ipython",
    "version": 3
   },
   "file_extension": ".py",
   "mimetype": "text/x-python",
   "name": "python",
   "nbconvert_exporter": "python",
   "pygments_lexer": "ipython3",
   "version": "3.11.4"
  }
 },
 "nbformat": 4,
 "nbformat_minor": 5
}
